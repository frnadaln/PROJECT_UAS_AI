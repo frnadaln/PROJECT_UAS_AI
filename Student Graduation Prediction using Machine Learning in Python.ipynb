{
 "cells": [
  {
   "cell_type": "code",
   "execution_count": 1,
   "id": "13e9fe69-2be7-4317-9227-2e89f017bd8b",
   "metadata": {},
   "outputs": [],
   "source": [
    "import numpy as np\n",
    "import pandas as pd\n",
    "import matplotlib.pyplot as plt\n",
    "import seaborn as sns\n",
    "from sklearn.model_selection import train_test_split\n",
    "from sklearn.linear_model import LogisticRegression\n",
    "from sklearn.metrics import accuracy_score"
   ]
  },
  {
   "cell_type": "code",
   "execution_count": 2,
   "id": "2028d4f0-7335-4ed3-817f-9e35a4a5bd40",
   "metadata": {},
   "outputs": [],
   "source": [
    "# load the data from csv file to Pandas DataFrame\n",
    "student_data = pd.read_csv('data.csv')"
   ]
  },
  {
   "cell_type": "code",
   "execution_count": 3,
   "id": "2cf11a61-ae34-44c5-bc4a-43c0df6daeaf",
   "metadata": {},
   "outputs": [
    {
     "data": {
      "text/html": [
       "<div>\n",
       "<style scoped>\n",
       "    .dataframe tbody tr th:only-of-type {\n",
       "        vertical-align: middle;\n",
       "    }\n",
       "\n",
       "    .dataframe tbody tr th {\n",
       "        vertical-align: top;\n",
       "    }\n",
       "\n",
       "    .dataframe thead th {\n",
       "        text-align: right;\n",
       "    }\n",
       "</style>\n",
       "<table border=\"1\" class=\"dataframe\">\n",
       "  <thead>\n",
       "    <tr style=\"text-align: right;\">\n",
       "      <th></th>\n",
       "      <th>StudentID</th>\n",
       "      <th>Graduated</th>\n",
       "      <th>Year</th>\n",
       "      <th>Name</th>\n",
       "      <th>Gender</th>\n",
       "      <th>Age</th>\n",
       "      <th>GPA</th>\n",
       "      <th>Attendance</th>\n",
       "      <th>Scholarship</th>\n",
       "      <th>Course</th>\n",
       "      <th>FeePaid</th>\n",
       "      <th>Department</th>\n",
       "      <th>City</th>\n",
       "    </tr>\n",
       "  </thead>\n",
       "  <tbody>\n",
       "    <tr>\n",
       "      <th>0</th>\n",
       "      <td>1</td>\n",
       "      <td>0</td>\n",
       "      <td>3</td>\n",
       "      <td>Budi Santoso</td>\n",
       "      <td>male</td>\n",
       "      <td>20</td>\n",
       "      <td>2.5</td>\n",
       "      <td>75</td>\n",
       "      <td>1</td>\n",
       "      <td>CS101</td>\n",
       "      <td>1500</td>\n",
       "      <td>NaN</td>\n",
       "      <td>Jakarta</td>\n",
       "    </tr>\n",
       "    <tr>\n",
       "      <th>1</th>\n",
       "      <td>2</td>\n",
       "      <td>1</td>\n",
       "      <td>1</td>\n",
       "      <td>Siti Aisyah</td>\n",
       "      <td>female</td>\n",
       "      <td>22</td>\n",
       "      <td>3.8</td>\n",
       "      <td>90</td>\n",
       "      <td>1</td>\n",
       "      <td>ENG201</td>\n",
       "      <td>2000</td>\n",
       "      <td>A45</td>\n",
       "      <td>Surabaya</td>\n",
       "    </tr>\n",
       "    <tr>\n",
       "      <th>2</th>\n",
       "      <td>3</td>\n",
       "      <td>0</td>\n",
       "      <td>3</td>\n",
       "      <td>Ayu Lestari</td>\n",
       "      <td>female</td>\n",
       "      <td>19</td>\n",
       "      <td>2.8</td>\n",
       "      <td>60</td>\n",
       "      <td>0</td>\n",
       "      <td>MATH150</td>\n",
       "      <td>1500</td>\n",
       "      <td>NaN</td>\n",
       "      <td>Bandung</td>\n",
       "    </tr>\n",
       "    <tr>\n",
       "      <th>3</th>\n",
       "      <td>4</td>\n",
       "      <td>1</td>\n",
       "      <td>2</td>\n",
       "      <td>Agus Susanto</td>\n",
       "      <td>male</td>\n",
       "      <td>21</td>\n",
       "      <td>3.2</td>\n",
       "      <td>85</td>\n",
       "      <td>0</td>\n",
       "      <td>CS102</td>\n",
       "      <td>1700</td>\n",
       "      <td>NaN</td>\n",
       "      <td>Medan</td>\n",
       "    </tr>\n",
       "    <tr>\n",
       "      <th>4</th>\n",
       "      <td>5</td>\n",
       "      <td>0</td>\n",
       "      <td>3</td>\n",
       "      <td>Andi Wijaya</td>\n",
       "      <td>male</td>\n",
       "      <td>23</td>\n",
       "      <td>2.3</td>\n",
       "      <td>55</td>\n",
       "      <td>0</td>\n",
       "      <td>ENG101</td>\n",
       "      <td>1300</td>\n",
       "      <td>NaN</td>\n",
       "      <td>Palembang</td>\n",
       "    </tr>\n",
       "  </tbody>\n",
       "</table>\n",
       "</div>"
      ],
      "text/plain": [
       "   StudentID  Graduated  Year          Name  Gender  Age  GPA  Attendance  \\\n",
       "0          1          0     3  Budi Santoso    male   20  2.5          75   \n",
       "1          2          1     1   Siti Aisyah  female   22  3.8          90   \n",
       "2          3          0     3   Ayu Lestari  female   19  2.8          60   \n",
       "3          4          1     2  Agus Susanto    male   21  3.2          85   \n",
       "4          5          0     3   Andi Wijaya    male   23  2.3          55   \n",
       "\n",
       "   Scholarship   Course  FeePaid Department       City  \n",
       "0            1    CS101     1500        NaN    Jakarta  \n",
       "1            1   ENG201     2000        A45   Surabaya  \n",
       "2            0  MATH150     1500        NaN    Bandung  \n",
       "3            0    CS102     1700        NaN      Medan  \n",
       "4            0   ENG101     1300        NaN  Palembang  "
      ]
     },
     "execution_count": 3,
     "metadata": {},
     "output_type": "execute_result"
    }
   ],
   "source": [
    "# printing the first 5 rows of the dataframe\n",
    "student_data.head()"
   ]
  },
  {
   "cell_type": "code",
   "execution_count": 4,
   "id": "86a7b00f-5bc7-40a1-8c48-c7dcaa832731",
   "metadata": {},
   "outputs": [
    {
     "data": {
      "text/plain": [
       "(15, 13)"
      ]
     },
     "execution_count": 4,
     "metadata": {},
     "output_type": "execute_result"
    }
   ],
   "source": [
    "# number of rows and Columns\n",
    "student_data.shape"
   ]
  },
  {
   "cell_type": "code",
   "execution_count": 5,
   "id": "cd281b1d-3c65-46a5-908b-32c88ae22d1c",
   "metadata": {},
   "outputs": [
    {
     "name": "stdout",
     "output_type": "stream",
     "text": [
      "<class 'pandas.core.frame.DataFrame'>\n",
      "RangeIndex: 15 entries, 0 to 14\n",
      "Data columns (total 13 columns):\n",
      " #   Column       Non-Null Count  Dtype  \n",
      "---  ------       --------------  -----  \n",
      " 0   StudentID    15 non-null     int64  \n",
      " 1   Graduated    15 non-null     int64  \n",
      " 2   Year         15 non-null     int64  \n",
      " 3   Name         15 non-null     object \n",
      " 4   Gender       15 non-null     object \n",
      " 5   Age          15 non-null     int64  \n",
      " 6   GPA          15 non-null     float64\n",
      " 7   Attendance   15 non-null     int64  \n",
      " 8   Scholarship  15 non-null     int64  \n",
      " 9   Course       15 non-null     object \n",
      " 10  FeePaid      15 non-null     int64  \n",
      " 11  Department   3 non-null      object \n",
      " 12  City         15 non-null     object \n",
      "dtypes: float64(1), int64(7), object(5)\n",
      "memory usage: 1.7+ KB\n"
     ]
    }
   ],
   "source": [
    "# getting some informations about the data\n",
    "student_data.info()"
   ]
  },
  {
   "cell_type": "code",
   "execution_count": 6,
   "id": "7928344f-f53b-465f-872b-179482dfb219",
   "metadata": {},
   "outputs": [
    {
     "data": {
      "text/plain": [
       "StudentID       0\n",
       "Graduated       0\n",
       "Year            0\n",
       "Name            0\n",
       "Gender          0\n",
       "Age             0\n",
       "GPA             0\n",
       "Attendance      0\n",
       "Scholarship     0\n",
       "Course          0\n",
       "FeePaid         0\n",
       "Department     12\n",
       "City            0\n",
       "dtype: int64"
      ]
     },
     "execution_count": 6,
     "metadata": {},
     "output_type": "execute_result"
    }
   ],
   "source": [
    "# check the number of missing values in each column\n",
    "student_data.isnull().sum()"
   ]
  },
  {
   "cell_type": "code",
   "execution_count": 7,
   "id": "aebfd2f5-309b-4bdc-a2c8-7a87140b2563",
   "metadata": {},
   "outputs": [],
   "source": [
    "# Drop the \"Department\" column from the DataFrame\n",
    "student_data = student_data.drop(columns='Department', axis=1)"
   ]
  },
  {
   "cell_type": "code",
   "execution_count": 9,
   "id": "37e9d024-47d0-4fd8-ab28-95650297aeb4",
   "metadata": {},
   "outputs": [],
   "source": [
    "# Replace missing values in the \"City\" column with the mode value\n",
    "mode_city_value = student_data['City'].mode()[0] \n",
    "student_data['City'].fillna(mode_city_value, inplace=True)"
   ]
  },
  {
   "cell_type": "code",
   "execution_count": 10,
   "id": "e9610c03-b372-4509-84d2-6e1f115e4641",
   "metadata": {},
   "outputs": [
    {
     "name": "stdout",
     "output_type": "stream",
     "text": [
      "0      Balikpapan\n",
      "1         Bandung\n",
      "2     Banjarmasin\n",
      "3           Bogor\n",
      "4        Denpasar\n",
      "5         Jakarta\n",
      "6        Makassar\n",
      "7          Malang\n",
      "8           Medan\n",
      "9       Palembang\n",
      "10      Pontianak\n",
      "11      Samarinda\n",
      "12       Semarang\n",
      "13       Surabaya\n",
      "14     Yogyakarta\n",
      "Name: City, dtype: object\n"
     ]
    }
   ],
   "source": [
    "# finding the mode value of \"City\" column\n",
    "print(student_data['City'].mode())"
   ]
  },
  {
   "cell_type": "code",
   "execution_count": 11,
   "id": "71becd22-6b64-441b-88c0-ab0683b733b5",
   "metadata": {},
   "outputs": [
    {
     "name": "stdout",
     "output_type": "stream",
     "text": [
      "Balikpapan\n"
     ]
    }
   ],
   "source": [
    "print(student_data['City'].mode()[0])"
   ]
  },
  {
   "cell_type": "code",
   "execution_count": 12,
   "id": "737f1d8f-7405-4e96-a40b-64fd97e5b0f0",
   "metadata": {},
   "outputs": [],
   "source": [
    "# Replace missing values in \"Course\" column with mode value\n",
    "student_data['Course'].fillna(student_data['Course'].mode()[0], inplace=True)"
   ]
  },
  {
   "cell_type": "code",
   "execution_count": 13,
   "id": "668e35fb-a620-4e20-8724-cb946f92e02f",
   "metadata": {},
   "outputs": [
    {
     "name": "stdout",
     "output_type": "stream",
     "text": [
      "StudentID      0\n",
      "Graduated      0\n",
      "Year           0\n",
      "Name           0\n",
      "Gender         0\n",
      "Age            0\n",
      "GPA            0\n",
      "Attendance     0\n",
      "Scholarship    0\n",
      "Course         0\n",
      "FeePaid        0\n",
      "City           0\n",
      "dtype: int64\n"
     ]
    }
   ],
   "source": [
    "# Check the number of missing values in each column\n",
    "print(student_data.isnull().sum())"
   ]
  },
  {
   "cell_type": "code",
   "execution_count": 14,
   "id": "112b24a8-ff87-459c-ade2-edaab39d0395",
   "metadata": {},
   "outputs": [
    {
     "data": {
      "text/html": [
       "<div>\n",
       "<style scoped>\n",
       "    .dataframe tbody tr th:only-of-type {\n",
       "        vertical-align: middle;\n",
       "    }\n",
       "\n",
       "    .dataframe tbody tr th {\n",
       "        vertical-align: top;\n",
       "    }\n",
       "\n",
       "    .dataframe thead th {\n",
       "        text-align: right;\n",
       "    }\n",
       "</style>\n",
       "<table border=\"1\" class=\"dataframe\">\n",
       "  <thead>\n",
       "    <tr style=\"text-align: right;\">\n",
       "      <th></th>\n",
       "      <th>StudentID</th>\n",
       "      <th>Graduated</th>\n",
       "      <th>Year</th>\n",
       "      <th>Age</th>\n",
       "      <th>GPA</th>\n",
       "      <th>Attendance</th>\n",
       "      <th>Scholarship</th>\n",
       "      <th>FeePaid</th>\n",
       "    </tr>\n",
       "  </thead>\n",
       "  <tbody>\n",
       "    <tr>\n",
       "      <th>count</th>\n",
       "      <td>15.000000</td>\n",
       "      <td>15.000000</td>\n",
       "      <td>15.000000</td>\n",
       "      <td>15.000000</td>\n",
       "      <td>15.000000</td>\n",
       "      <td>15.000000</td>\n",
       "      <td>15.000000</td>\n",
       "      <td>15.000000</td>\n",
       "    </tr>\n",
       "    <tr>\n",
       "      <th>mean</th>\n",
       "      <td>8.000000</td>\n",
       "      <td>0.466667</td>\n",
       "      <td>2.266667</td>\n",
       "      <td>21.400000</td>\n",
       "      <td>3.020000</td>\n",
       "      <td>75.066667</td>\n",
       "      <td>0.400000</td>\n",
       "      <td>1693.333333</td>\n",
       "    </tr>\n",
       "    <tr>\n",
       "      <th>std</th>\n",
       "      <td>4.472136</td>\n",
       "      <td>0.516398</td>\n",
       "      <td>0.798809</td>\n",
       "      <td>1.882248</td>\n",
       "      <td>0.491644</td>\n",
       "      <td>14.498604</td>\n",
       "      <td>0.507093</td>\n",
       "      <td>353.486041</td>\n",
       "    </tr>\n",
       "    <tr>\n",
       "      <th>min</th>\n",
       "      <td>1.000000</td>\n",
       "      <td>0.000000</td>\n",
       "      <td>1.000000</td>\n",
       "      <td>18.000000</td>\n",
       "      <td>2.300000</td>\n",
       "      <td>55.000000</td>\n",
       "      <td>0.000000</td>\n",
       "      <td>1200.000000</td>\n",
       "    </tr>\n",
       "    <tr>\n",
       "      <th>25%</th>\n",
       "      <td>4.500000</td>\n",
       "      <td>0.000000</td>\n",
       "      <td>2.000000</td>\n",
       "      <td>20.000000</td>\n",
       "      <td>2.650000</td>\n",
       "      <td>62.500000</td>\n",
       "      <td>0.000000</td>\n",
       "      <td>1500.000000</td>\n",
       "    </tr>\n",
       "    <tr>\n",
       "      <th>50%</th>\n",
       "      <td>8.000000</td>\n",
       "      <td>0.000000</td>\n",
       "      <td>2.000000</td>\n",
       "      <td>21.000000</td>\n",
       "      <td>2.900000</td>\n",
       "      <td>75.000000</td>\n",
       "      <td>0.000000</td>\n",
       "      <td>1600.000000</td>\n",
       "    </tr>\n",
       "    <tr>\n",
       "      <th>75%</th>\n",
       "      <td>11.500000</td>\n",
       "      <td>1.000000</td>\n",
       "      <td>3.000000</td>\n",
       "      <td>22.500000</td>\n",
       "      <td>3.450000</td>\n",
       "      <td>89.000000</td>\n",
       "      <td>1.000000</td>\n",
       "      <td>1900.000000</td>\n",
       "    </tr>\n",
       "    <tr>\n",
       "      <th>max</th>\n",
       "      <td>15.000000</td>\n",
       "      <td>1.000000</td>\n",
       "      <td>3.000000</td>\n",
       "      <td>25.000000</td>\n",
       "      <td>3.800000</td>\n",
       "      <td>95.000000</td>\n",
       "      <td>1.000000</td>\n",
       "      <td>2500.000000</td>\n",
       "    </tr>\n",
       "  </tbody>\n",
       "</table>\n",
       "</div>"
      ],
      "text/plain": [
       "       StudentID  Graduated       Year        Age        GPA  Attendance  \\\n",
       "count  15.000000  15.000000  15.000000  15.000000  15.000000   15.000000   \n",
       "mean    8.000000   0.466667   2.266667  21.400000   3.020000   75.066667   \n",
       "std     4.472136   0.516398   0.798809   1.882248   0.491644   14.498604   \n",
       "min     1.000000   0.000000   1.000000  18.000000   2.300000   55.000000   \n",
       "25%     4.500000   0.000000   2.000000  20.000000   2.650000   62.500000   \n",
       "50%     8.000000   0.000000   2.000000  21.000000   2.900000   75.000000   \n",
       "75%    11.500000   1.000000   3.000000  22.500000   3.450000   89.000000   \n",
       "max    15.000000   1.000000   3.000000  25.000000   3.800000   95.000000   \n",
       "\n",
       "       Scholarship      FeePaid  \n",
       "count    15.000000    15.000000  \n",
       "mean      0.400000  1693.333333  \n",
       "std       0.507093   353.486041  \n",
       "min       0.000000  1200.000000  \n",
       "25%       0.000000  1500.000000  \n",
       "50%       0.000000  1600.000000  \n",
       "75%       1.000000  1900.000000  \n",
       "max       1.000000  2500.000000  "
      ]
     },
     "execution_count": 14,
     "metadata": {},
     "output_type": "execute_result"
    }
   ],
   "source": [
    "# getting some statistical measures about the data\n",
    "student_data.describe()"
   ]
  },
  {
   "cell_type": "code",
   "execution_count": 15,
   "id": "7aba57f4-6299-41ef-957a-0d8a3543531d",
   "metadata": {},
   "outputs": [
    {
     "data": {
      "text/plain": [
       "Graduated\n",
       "0    8\n",
       "1    7\n",
       "Name: count, dtype: int64"
      ]
     },
     "execution_count": 15,
     "metadata": {},
     "output_type": "execute_result"
    }
   ],
   "source": [
    "# finding the number of people graduated and not graduated\n",
    "student_data['Graduated'].value_counts()"
   ]
  },
  {
   "cell_type": "code",
   "execution_count": 16,
   "id": "85aa637c-90e6-4f2c-a5b6-18ed5e42e0f0",
   "metadata": {},
   "outputs": [],
   "source": [
    "sns.set()"
   ]
  },
  {
   "cell_type": "code",
   "execution_count": 17,
   "id": "3d1d6a72-ea9f-4e3f-aa82-338f96807f94",
   "metadata": {},
   "outputs": [
    {
     "data": {
      "image/png": "[encoded data removed]",
      "text/plain": [
       "<Figure size 640x480 with 1 Axes>"
      ]
     },
     "metadata": {},
     "output_type": "display_data"
    }
   ],
   "source": [
    "# making a count plot for \"Graduated\" column\n",
    "sns.countplot(x='Graduated', data=student_data)\n",
    "\n",
    "plt.title('Count Plot of Graduated Students')\n",
    "plt.xlabel('Graduated')\n",
    "plt.ylabel('Count')\n",
    "plt.show()"
   ]
  },
  {
   "cell_type": "code",
   "execution_count": 18,
   "id": "98c44634-0a1f-4e38-a3eb-0499004abb80",
   "metadata": {},
   "outputs": [],
   "source": [
    "gender_counts = student_data['Gender'].value_counts()"
   ]
  },
  {
   "cell_type": "code",
   "execution_count": 19,
   "id": "002b9a08-db5c-496f-a2e2-0714989a51ce",
   "metadata": {},
   "outputs": [
    {
     "data": {
      "image/png": "[encoded data removed]",
      "text/plain": [
       "<Figure size 640x480 with 1 Axes>"
      ]
     },
     "metadata": {},
     "output_type": "display_data"
    }
   ],
   "source": [
    "# making a count plot for \"Gender\" column\n",
    "sns.countplot(x='Gender', data=student_data)\n",
    "\n",
    "plt.title('Count Plot of Gender in Student Data')\n",
    "plt.xlabel('Gender')\n",
    "plt.ylabel('Count')\n",
    "plt.show()"
   ]
  },
  {
   "cell_type": "code",
   "execution_count": 22,
   "id": "219accae-9c5a-4c97-8d25-996daa0e7fa4",
   "metadata": {},
   "outputs": [
    {
     "data": {
      "image/png": "[encoded data removed]",
      "text/plain": [
       "<Figure size 640x480 with 1 Axes>"
      ]
     },
     "metadata": {},
     "output_type": "display_data"
    }
   ],
   "source": [
    "# number of Graduated Students by Gender\n",
    "sns.countplot(x='Gender', hue='Graduated', data=student_data)\n",
    "\n",
    "plt.title('Number of Graduated Students by Gender')\n",
    "plt.xlabel('Gender')\n",
    "plt.ylabel('Count')\n",
    "plt.show()"
   ]
  },
  {
   "cell_type": "code",
   "execution_count": 23,
   "id": "be621de1-642a-4f03-95e3-49ed4c90d83d",
   "metadata": {},
   "outputs": [
    {
     "data": {
      "image/png": "[encoded data removed]",
      "text/plain": [
       "<Figure size 640x480 with 1 Axes>"
      ]
     },
     "metadata": {},
     "output_type": "display_data"
    }
   ],
   "source": [
    "# making a count plot for \"Year\" Column\n",
    "sns.countplot(x='Year', data=student_data)\n",
    "\n",
    "plt.title('Number of Students by Year')\n",
    "plt.xlabel('Year')\n",
    "plt.ylabel('Count')\n",
    "plt.show()"
   ]
  },
  {
   "cell_type": "code",
   "execution_count": 24,
   "id": "85c3037e-cf1a-4e76-a702-93eab52c455e",
   "metadata": {},
   "outputs": [
    {
     "data": {
      "image/png": "[encoded data removed]",
      "text/plain": [
       "<Figure size 640x480 with 1 Axes>"
      ]
     },
     "metadata": {},
     "output_type": "display_data"
    }
   ],
   "source": [
    "sns.countplot(x='Year', hue='Graduated', data=student_data)\n",
    "\n",
    "plt.title('Number of Graduated and Non-Graduated Students by Year')\n",
    "plt.xlabel('Year')\n",
    "plt.ylabel('Count')\n",
    "plt.show()"
   ]
  },
  {
   "cell_type": "code",
   "execution_count": 25,
   "id": "00e5bd77-f5c6-4b0a-a8bc-aa5cc7c8cd05",
   "metadata": {},
   "outputs": [
    {
     "data": {
      "text/plain": [
       "Gender\n",
       "male      8\n",
       "female    7\n",
       "Name: count, dtype: int64"
      ]
     },
     "execution_count": 25,
     "metadata": {},
     "output_type": "execute_result"
    }
   ],
   "source": [
    "student_data['Gender'].value_counts()"
   ]
  },
  {
   "cell_type": "code",
   "execution_count": 26,
   "id": "57b9157c-7450-4b04-a813-17add15e63da",
   "metadata": {},
   "outputs": [
    {
     "data": {
      "text/plain": [
       "City\n",
       "Jakarta        1\n",
       "Surabaya       1\n",
       "Bandung        1\n",
       "Medan          1\n",
       "Palembang      1\n",
       "Makassar       1\n",
       "Yogyakarta     1\n",
       "Semarang       1\n",
       "Balikpapan     1\n",
       "Malang         1\n",
       "Bogor          1\n",
       "Denpasar       1\n",
       "Pontianak      1\n",
       "Samarinda      1\n",
       "Banjarmasin    1\n",
       "Name: count, dtype: int64"
      ]
     },
     "execution_count": 26,
     "metadata": {},
     "output_type": "execute_result"
    }
   ],
   "source": [
    "student_data['City'].value_counts()"
   ]
  },
  {
   "cell_type": "code",
   "execution_count": 27,
   "id": "c196d404-1bb1-4368-9246-45314a73c0bd",
   "metadata": {},
   "outputs": [],
   "source": [
    "# converting categorical Columns\n",
    "\n",
    "student_data.replace({'Gender': {'male': 0, 'female': 1}, 'City': {'Jakarta': 0, 'Surabaya': 1, 'Bandung': 2, 'Medan': 3, 'Palembang': 4,\n",
    "                                                                  'Makassar': 5, 'Yogyakarta': 6, 'Semarang': 7, 'Balikpapan': 8, 'Malang': 9,\n",
    "                                                                  'Bogor': 10, 'Denpasar': 11, 'Pontianak': 12, 'Samarinda': 13, 'Banjarmasin': 14}}, inplace=True)"
   ]
  },
  {
   "cell_type": "code",
   "execution_count": 28,
   "id": "3ff96ac0-1036-4210-a728-743faf3367e5",
   "metadata": {},
   "outputs": [
    {
     "data": {
      "text/html": [
       "<div>\n",
       "<style scoped>\n",
       "    .dataframe tbody tr th:only-of-type {\n",
       "        vertical-align: middle;\n",
       "    }\n",
       "\n",
       "    .dataframe tbody tr th {\n",
       "        vertical-align: top;\n",
       "    }\n",
       "\n",
       "    .dataframe thead th {\n",
       "        text-align: right;\n",
       "    }\n",
       "</style>\n",
       "<table border=\"1\" class=\"dataframe\">\n",
       "  <thead>\n",
       "    <tr style=\"text-align: right;\">\n",
       "      <th></th>\n",
       "      <th>StudentID</th>\n",
       "      <th>Graduated</th>\n",
       "      <th>Year</th>\n",
       "      <th>Name</th>\n",
       "      <th>Gender</th>\n",
       "      <th>Age</th>\n",
       "      <th>GPA</th>\n",
       "      <th>Attendance</th>\n",
       "      <th>Scholarship</th>\n",
       "      <th>Course</th>\n",
       "      <th>FeePaid</th>\n",
       "      <th>City</th>\n",
       "    </tr>\n",
       "  </thead>\n",
       "  <tbody>\n",
       "    <tr>\n",
       "      <th>0</th>\n",
       "      <td>1</td>\n",
       "      <td>0</td>\n",
       "      <td>3</td>\n",
       "      <td>Budi Santoso</td>\n",
       "      <td>0</td>\n",
       "      <td>20</td>\n",
       "      <td>2.5</td>\n",
       "      <td>75</td>\n",
       "      <td>1</td>\n",
       "      <td>CS101</td>\n",
       "      <td>1500</td>\n",
       "      <td>0</td>\n",
       "    </tr>\n",
       "    <tr>\n",
       "      <th>1</th>\n",
       "      <td>2</td>\n",
       "      <td>1</td>\n",
       "      <td>1</td>\n",
       "      <td>Siti Aisyah</td>\n",
       "      <td>1</td>\n",
       "      <td>22</td>\n",
       "      <td>3.8</td>\n",
       "      <td>90</td>\n",
       "      <td>1</td>\n",
       "      <td>ENG201</td>\n",
       "      <td>2000</td>\n",
       "      <td>1</td>\n",
       "    </tr>\n",
       "    <tr>\n",
       "      <th>2</th>\n",
       "      <td>3</td>\n",
       "      <td>0</td>\n",
       "      <td>3</td>\n",
       "      <td>Ayu Lestari</td>\n",
       "      <td>1</td>\n",
       "      <td>19</td>\n",
       "      <td>2.8</td>\n",
       "      <td>60</td>\n",
       "      <td>0</td>\n",
       "      <td>MATH150</td>\n",
       "      <td>1500</td>\n",
       "      <td>2</td>\n",
       "    </tr>\n",
       "    <tr>\n",
       "      <th>3</th>\n",
       "      <td>4</td>\n",
       "      <td>1</td>\n",
       "      <td>2</td>\n",
       "      <td>Agus Susanto</td>\n",
       "      <td>0</td>\n",
       "      <td>21</td>\n",
       "      <td>3.2</td>\n",
       "      <td>85</td>\n",
       "      <td>0</td>\n",
       "      <td>CS102</td>\n",
       "      <td>1700</td>\n",
       "      <td>3</td>\n",
       "    </tr>\n",
       "    <tr>\n",
       "      <th>4</th>\n",
       "      <td>5</td>\n",
       "      <td>0</td>\n",
       "      <td>3</td>\n",
       "      <td>Andi Wijaya</td>\n",
       "      <td>0</td>\n",
       "      <td>23</td>\n",
       "      <td>2.3</td>\n",
       "      <td>55</td>\n",
       "      <td>0</td>\n",
       "      <td>ENG101</td>\n",
       "      <td>1300</td>\n",
       "      <td>4</td>\n",
       "    </tr>\n",
       "  </tbody>\n",
       "</table>\n",
       "</div>"
      ],
      "text/plain": [
       "   StudentID Graduated  Year          Name  Gender  Age  GPA  Attendance  \\\n",
       "0          1         0     3  Budi Santoso       0   20  2.5          75   \n",
       "1          2         1     1   Siti Aisyah       1   22  3.8          90   \n",
       "2          3         0     3   Ayu Lestari       1   19  2.8          60   \n",
       "3          4         1     2  Agus Susanto       0   21  3.2          85   \n",
       "4          5         0     3   Andi Wijaya       0   23  2.3          55   \n",
       "\n",
       "   Scholarship   Course  FeePaid  City  \n",
       "0            1    CS101     1500     0  \n",
       "1            1   ENG201     2000     1  \n",
       "2            0  MATH150     1500     2  \n",
       "3            0    CS102     1700     3  \n",
       "4            0   ENG101     1300     4  "
      ]
     },
     "execution_count": 28,
     "metadata": {},
     "output_type": "execute_result"
    }
   ],
   "source": [
    "student_data.head()"
   ]
  },
  {
   "cell_type": "code",
   "execution_count": 29,
   "id": "180b5342-ccec-419b-b12a-ee76c29e76b1",
   "metadata": {},
   "outputs": [],
   "source": [
    "X = student_data.drop(columns=['StudentID', 'Name', 'Course', 'City'], axis=1)\n",
    "Y = student_data['Graduated']"
   ]
  },
  {
   "cell_type": "code",
   "execution_count": 30,
   "id": "ad71d1f5-3469-4ebf-9a31-8fe4389d0076",
   "metadata": {},
   "outputs": [
    {
     "name": "stdout",
     "output_type": "stream",
     "text": [
      "   Graduated  Year  Gender  Age  GPA  Attendance  Scholarship  FeePaid\n",
      "0          0     3       0   20  2.5          75            1     1500\n",
      "1          1     1       1   22  3.8          90            1     2000\n",
      "2          0     3       1   19  2.8          60            0     1500\n",
      "3          1     2       0   21  3.2          85            0     1700\n",
      "4          0     3       0   23  2.3          55            0     1300\n",
      "5          1     1       1   20  3.6          95            1     2500\n",
      "6          1     3       0   22  3.1          80            1     1600\n",
      "7          0     2       0   24  2.7          70            0     1200\n",
      "8          0     3       0   18  2.9          65            0     1400\n",
      "9          1     2       1   21  3.4          88            0     1800\n",
      "10         1     1       1   25  3.7          93            1     2200\n",
      "11         0     3       0   22  2.4          60            0     1500\n",
      "12         0     3       1   20  2.6          55            0     1500\n",
      "13         0     2       0   23  2.8          65            0     1700\n",
      "14         1     2       1   21  3.5          90            1     2000\n"
     ]
    }
   ],
   "source": [
    "print(X)"
   ]
  },
  {
   "cell_type": "code",
   "execution_count": 31,
   "id": "fd4b2e1e-1b80-429d-9dbd-3a9ed24b3838",
   "metadata": {},
   "outputs": [
    {
     "name": "stdout",
     "output_type": "stream",
     "text": [
      "0     0\n",
      "1     1\n",
      "2     0\n",
      "3     1\n",
      "4     0\n",
      "5     1\n",
      "6     1\n",
      "7     0\n",
      "8     0\n",
      "9     1\n",
      "10    1\n",
      "11    0\n",
      "12    0\n",
      "13    0\n",
      "14    1\n",
      "Name: Graduated, dtype: object\n"
     ]
    }
   ],
   "source": [
    "print(Y)"
   ]
  },
  {
   "cell_type": "code",
   "execution_count": 32,
   "id": "8bd308f1-6b44-4f86-ba8d-f8ddb9b90496",
   "metadata": {},
   "outputs": [],
   "source": [
    "X_train, X_test, Y_train, Y_test = train_test_split(X,Y, test_size=0.2, random_state=2)"
   ]
  },
  {
   "cell_type": "code",
   "execution_count": 33,
   "id": "88cfe6bb-ef5f-4e6f-8c5d-90d929189bf8",
   "metadata": {},
   "outputs": [
    {
     "name": "stdout",
     "output_type": "stream",
     "text": [
      "(15, 8) (12, 8) (3, 8)\n"
     ]
    }
   ],
   "source": [
    "print(X.shape, X_train.shape, X_test.shape)"
   ]
  },
  {
   "cell_type": "code",
   "execution_count": 36,
   "id": "476593ec-5221-4513-ac92-19aedcc60ee9",
   "metadata": {},
   "outputs": [],
   "source": [
    "model = LogisticRegression(max_iter=1000)"
   ]
  },
  {
   "cell_type": "code",
   "execution_count": 37,
   "id": "f1834dc1-ff1a-414c-a5a3-62c17454ecbd",
   "metadata": {},
   "outputs": [
    {
     "data": {
      "text/html": [
       "<style>#sk-container-id-2 {color: black;background-color: white;}#sk-container-id-2 pre{padding: 0;}#sk-container-id-2 div.sk-toggleable {background-color: white;}#sk-container-id-2 label.sk-toggleable__label {cursor: pointer;display: block;width: 100%;margin-bottom: 0;padding: 0.3em;box-sizing: border-box;text-align: center;}#sk-container-id-2 label.sk-toggleable__label-arrow:before {content: \"▸\";float: left;margin-right: 0.25em;color: #696969;}#sk-container-id-2 label.sk-toggleable__label-arrow:hover:before {color: black;}#sk-container-id-2 div.sk-estimator:hover label.sk-toggleable__label-arrow:before {color: black;}#sk-container-id-2 div.sk-toggleable__content {max-height: 0;max-width: 0;overflow: hidden;text-align: left;background-color: #f0f8ff;}#sk-container-id-2 div.sk-toggleable__content pre {margin: 0.2em;color: black;border-radius: 0.25em;background-color: #f0f8ff;}#sk-container-id-2 input.sk-toggleable__control:checked~div.sk-toggleable__content {max-height: 200px;max-width: 100%;overflow: auto;}#sk-container-id-2 input.sk-toggleable__control:checked~label.sk-toggleable__label-arrow:before {content: \"▾\";}#sk-container-id-2 div.sk-estimator input.sk-toggleable__control:checked~label.sk-toggleable__label {background-color: #d4ebff;}#sk-container-id-2 div.sk-label input.sk-toggleable__control:checked~label.sk-toggleable__label {background-color: #d4ebff;}#sk-container-id-2 input.sk-hidden--visually {border: 0;clip: rect(1px 1px 1px 1px);clip: rect(1px, 1px, 1px, 1px);height: 1px;margin: -1px;overflow: hidden;padding: 0;position: absolute;width: 1px;}#sk-container-id-2 div.sk-estimator {font-family: monospace;background-color: #f0f8ff;border: 1px dotted black;border-radius: 0.25em;box-sizing: border-box;margin-bottom: 0.5em;}#sk-container-id-2 div.sk-estimator:hover {background-color: #d4ebff;}#sk-container-id-2 div.sk-parallel-item::after {content: \"\";width: 100%;border-bottom: 1px solid gray;flex-grow: 1;}#sk-container-id-2 div.sk-label:hover label.sk-toggleable__label {background-color: #d4ebff;}#sk-container-id-2 div.sk-serial::before {content: \"\";position: absolute;border-left: 1px solid gray;box-sizing: border-box;top: 0;bottom: 0;left: 50%;z-index: 0;}#sk-container-id-2 div.sk-serial {display: flex;flex-direction: column;align-items: center;background-color: white;padding-right: 0.2em;padding-left: 0.2em;position: relative;}#sk-container-id-2 div.sk-item {position: relative;z-index: 1;}#sk-container-id-2 div.sk-parallel {display: flex;align-items: stretch;justify-content: center;background-color: white;position: relative;}#sk-container-id-2 div.sk-item::before, #sk-container-id-2 div.sk-parallel-item::before {content: \"\";position: absolute;border-left: 1px solid gray;box-sizing: border-box;top: 0;bottom: 0;left: 50%;z-index: -1;}#sk-container-id-2 div.sk-parallel-item {display: flex;flex-direction: column;z-index: 1;position: relative;background-color: white;}#sk-container-id-2 div.sk-parallel-item:first-child::after {align-self: flex-end;width: 50%;}#sk-container-id-2 div.sk-parallel-item:last-child::after {align-self: flex-start;width: 50%;}#sk-container-id-2 div.sk-parallel-item:only-child::after {width: 0;}#sk-container-id-2 div.sk-dashed-wrapped {border: 1px dashed gray;margin: 0 0.4em 0.5em 0.4em;box-sizing: border-box;padding-bottom: 0.4em;background-color: white;}#sk-container-id-2 div.sk-label label {font-family: monospace;font-weight: bold;display: inline-block;line-height: 1.2em;}#sk-container-id-2 div.sk-label-container {text-align: center;}#sk-container-id-2 div.sk-container {/* jupyter's `normalize.less` sets `[hidden] { display: none; }` but bootstrap.min.css set `[hidden] { display: none !important; }` so we also need the `!important` here to be able to override the default hidden behavior on the sphinx rendered scikit-learn.org. See: https://github.com/scikit-learn/scikit-learn/issues/21755 */display: inline-block !important;position: relative;}#sk-container-id-2 div.sk-text-repr-fallback {display: none;}</style><div id=\"sk-container-id-2\" class=\"sk-top-container\"><div class=\"sk-text-repr-fallback\"><pre>LogisticRegression(max_iter=1000)</pre><b>In a Jupyter environment, please rerun this cell to show the HTML representation or trust the notebook. <br />On GitHub, the HTML representation is unable to render, please try loading this page with nbviewer.org.</b></div><div class=\"sk-container\" hidden><div class=\"sk-item\"><div class=\"sk-estimator sk-toggleable\"><input class=\"sk-toggleable__control sk-hidden--visually\" id=\"sk-estimator-id-2\" type=\"checkbox\" checked><label for=\"sk-estimator-id-2\" class=\"sk-toggleable__label sk-toggleable__label-arrow\">LogisticRegression</label><div class=\"sk-toggleable__content\"><pre>LogisticRegression(max_iter=1000)</pre></div></div></div></div></div>"
      ],
      "text/plain": [
       "LogisticRegression(max_iter=1000)"
      ]
     },
     "execution_count": 37,
     "metadata": {},
     "output_type": "execute_result"
    }
   ],
   "source": [
    "# training the Logistic Regression model with training data\n",
    "model.fit(X_train, Y_train)"
   ]
  },
  {
   "cell_type": "code",
   "execution_count": 38,
   "id": "893a1b30-2b85-443e-9e47-636c1611efcb",
   "metadata": {},
   "outputs": [],
   "source": [
    "# accuracy on training data\n",
    "X_train_prediction = model.predict(X_train)"
   ]
  },
  {
   "cell_type": "code",
   "execution_count": 39,
   "id": "56054d31-a1a3-4683-a9cc-a402160577eb",
   "metadata": {},
   "outputs": [
    {
     "name": "stdout",
     "output_type": "stream",
     "text": [
      "['0' '1' '1' '1' '1' '0' '0' '0' '1' '1' '0' '0']\n"
     ]
    }
   ],
   "source": [
    "print(X_train_prediction)"
   ]
  },
  {
   "cell_type": "code",
   "execution_count": 40,
   "id": "2b632272-18dc-4a8f-b7ea-57988581b370",
   "metadata": {},
   "outputs": [
    {
     "name": "stdout",
     "output_type": "stream",
     "text": [
      "Accuracy score of training data :  1.0\n"
     ]
    }
   ],
   "source": [
    "training_data_accuracy = accuracy_score(Y_train, X_train_prediction)\n",
    "print('Accuracy score of training data : ', training_data_accuracy)"
   ]
  },
  {
   "cell_type": "code",
   "execution_count": 41,
   "id": "b8ba0144-47d4-4bdb-a77f-5c95e377854e",
   "metadata": {},
   "outputs": [],
   "source": [
    "# accuracy on test data\n",
    "X_test_prediction = model.predict(X_test)"
   ]
  },
  {
   "cell_type": "code",
   "execution_count": 42,
   "id": "a361eb9c-08c4-47df-9263-264d09a87430",
   "metadata": {},
   "outputs": [
    {
     "name": "stdout",
     "output_type": "stream",
     "text": [
      "['0' '0' '1']\n"
     ]
    }
   ],
   "source": [
    "print(X_test_prediction)"
   ]
  },
  {
   "cell_type": "code",
   "execution_count": 43,
   "id": "d235e806-42e9-4b92-8d68-a246ddb8721e",
   "metadata": {},
   "outputs": [
    {
     "name": "stdout",
     "output_type": "stream",
     "text": [
      "Accuracy score of test data :  1.0\n"
     ]
    }
   ],
   "source": [
    "test_data_accuracy = accuracy_score(Y_test, X_test_prediction)\n",
    "print('Accuracy score of test data : ', test_data_accuracy)"
   ]
  },
  {
   "cell_type": "code",
   "execution_count": null,
   "id": "1e80232e-d1ce-4d39-bdd0-6a653df10886",
   "metadata": {},
   "outputs": [],
   "source": []
  }
 ],
 "metadata": {
  "kernelspec": {
   "display_name": "Python 3 (ipykernel)",
   "language": "python",
   "name": "python3"
  },
  "language_info": {
   "codemirror_mode": {
    "name": "ipython",
    "version": 3
   },
   "file_extension": ".py",
   "mimetype": "text/x-python",
   "name": "python",
   "nbconvert_exporter": "python",
   "pygments_lexer": "ipython3",
   "version": "3.11.7"
  }
 },
 "nbformat": 4,
 "nbformat_minor": 5
}
